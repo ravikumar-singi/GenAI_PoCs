{
 "cells": [
  {
   "cell_type": "markdown",
   "metadata": {},
   "source": [
    "## This is a PoC for building the LLM enabled Chatbot with History/ Open Source"
   ]
  },
  {
   "cell_type": "markdown",
   "metadata": {},
   "source": [
    "Here I am using LLM with groq based Chat app with history\n",
    "\n",
    "Note: this will give chat option from LLM, but not from any external enabled sources or it supports any actions."
   ]
  },
  {
   "cell_type": "code",
   "execution_count": 1,
   "metadata": {},
   "outputs": [],
   "source": [
    "import os\n",
    "from dotenv import load_dotenv\n",
    "load_dotenv()\n",
    "\n",
    "groq_api_key=os.getenv(\"GROQ_API_KEY\")\n"
   ]
  },
  {
   "cell_type": "markdown",
   "metadata": {},
   "source": [
    "Get the Gemma from ChatGroq"
   ]
  },
  {
   "cell_type": "code",
   "execution_count": 2,
   "metadata": {},
   "outputs": [
    {
     "data": {
      "text/plain": [
       "ChatGroq(client=<groq.resources.chat.completions.Completions object at 0x000001E5C9590FE0>, async_client=<groq.resources.chat.completions.AsyncCompletions object at 0x000001E5C9591A60>, model_name='Gemma2-9b-It', groq_api_key=SecretStr('**********'))"
      ]
     },
     "execution_count": 2,
     "metadata": {},
     "output_type": "execute_result"
    }
   ],
   "source": [
    "from langchain_groq import ChatGroq\n",
    "model=ChatGroq(model=\"Gemma2-9b-It\",groq_api_key=groq_api_key)\n",
    "model"
   ]
  },
  {
   "cell_type": "markdown",
   "metadata": {},
   "source": [
    "Compose a Human Message and Invoke it to the Model"
   ]
  },
  {
   "cell_type": "code",
   "execution_count": 3,
   "metadata": {},
   "outputs": [
    {
     "data": {
      "text/plain": [
       "AIMessage(content=\"Hi Ravi, it's nice to meet you!\\n\\nAs a Cloud & ML Technology Manager, I imagine you're involved in some exciting projects. What kind of work are you doing these days? 😄  \\n\\nI'm always eager to learn more about how people are using AI and cloud technologies.\\n\", response_metadata={'token_usage': {'completion_tokens': 65, 'prompt_tokens': 26, 'total_tokens': 91, 'completion_time': 0.132628641, 'prompt_time': 0.004715613, 'queue_time': None, 'total_time': 0.137344254}, 'model_name': 'Gemma2-9b-It', 'system_fingerprint': 'fp_10c08bf97d', 'finish_reason': 'stop', 'logprobs': None}, id='run-9a3160ac-c914-46a8-b66a-7a38c1a05a1a-0', usage_metadata={'input_tokens': 26, 'output_tokens': 65, 'total_tokens': 91})"
      ]
     },
     "execution_count": 3,
     "metadata": {},
     "output_type": "execute_result"
    }
   ],
   "source": [
    "from langchain_core.messages import HumanMessage\n",
    "model.invoke([HumanMessage(content=\"Hi, My Name is Ravi, Cloud & ML Technology Manager\")])"
   ]
  },
  {
   "cell_type": "markdown",
   "metadata": {},
   "source": [
    "Check if it remembers what it responded using the AI Message"
   ]
  },
  {
   "cell_type": "code",
   "execution_count": 6,
   "metadata": {},
   "outputs": [
    {
     "data": {
      "text/plain": [
       "AIMessage(content=\"According to our conversation, your name is Ravi and you are a Cloud & ML Technology Manager. \\n\\nIs there anything else you'd like to know or discuss? 😊 \\n\", response_metadata={'token_usage': {'completion_tokens': 39, 'prompt_tokens': 105, 'total_tokens': 144, 'completion_time': 0.078561849, 'prompt_time': 0.006729572, 'queue_time': None, 'total_time': 0.085291421}, 'model_name': 'Gemma2-9b-It', 'system_fingerprint': 'fp_10c08bf97d', 'finish_reason': 'stop', 'logprobs': None}, id='run-a07f718c-f620-4dcf-8faa-1354c792231b-0', usage_metadata={'input_tokens': 105, 'output_tokens': 39, 'total_tokens': 144})"
      ]
     },
     "execution_count": 6,
     "metadata": {},
     "output_type": "execute_result"
    }
   ],
   "source": [
    "from langchain_core.messages import AIMessage\n",
    "model.invoke(\n",
    "    [\n",
    "        HumanMessage(content=\"Hi, My Name is Ravi, Cloud & ML Technology Manager\"),\n",
    "        AIMessage(content=\"Hi Ravi, it's nice to meet you! As a Cloud & ML Technology Manager, I imagine you're involved in some exciting projects. What kind of work are you doing these days? I'm always eager to learn more about how people are using AI and cloud technologies.\\n\"),\n",
    "        HumanMessage(content=\"Hi, what is My Name and my profession?\"),\n",
    "    ]\n",
    ")"
   ]
  },
  {
   "cell_type": "markdown",
   "metadata": {},
   "source": [
    "##Message History Background"
   ]
  },
  {
   "cell_type": "code",
   "execution_count": 9,
   "metadata": {},
   "outputs": [],
   "source": [
    "from langchain_community.chat_message_histories import ChatMessageHistory\n",
    "from langchain_core.chat_history import BaseChatMessageHistory\n",
    "from langchain_core.runnables import RunnableWithMessageHistory\n",
    "\n",
    "store={}\n",
    "\n",
    "def get_session_hist(session_id:str)->BaseChatMessageHistory:\n",
    "    if session_id not in store:\n",
    "        store[session_id]=ChatMessageHistory()\n",
    "    return store[session_id]\n",
    "\n",
    "with_message_hist=RunnableWithMessageHistory(model,get_session_history=get_session_hist)"
   ]
  },
  {
   "cell_type": "code",
   "execution_count": 7,
   "metadata": {},
   "outputs": [],
   "source": [
    "config={\"configurable\":{\"session_id\":\"chat1\"}} # Create a session configurable"
   ]
  },
  {
   "cell_type": "markdown",
   "metadata": {},
   "source": [
    "Invoke and check if the session is saved"
   ]
  },
  {
   "cell_type": "code",
   "execution_count": 11,
   "metadata": {},
   "outputs": [],
   "source": [
    "response=with_message_hist.invoke(\n",
    "    [HumanMessage(content=\"Hi, My Name is Ravi, Cloud & ML Technology Manager\")],\n",
    "    config=config\n",
    ")"
   ]
  },
  {
   "cell_type": "code",
   "execution_count": 12,
   "metadata": {},
   "outputs": [
    {
     "data": {
      "text/plain": [
       "\"Hi Ravi, it's great to meet you! \\n\\nBeing a Cloud & ML Technology Manager sounds like a fascinating role.  What are some of the most exciting projects you're working on right now? \\n\\nI'm always interested in learning about new developments in the cloud and machine learning space.  \\n\\nPerhaps you could tell me about:\\n\\n* **The types of cloud platforms you utilize (AWS, Azure, GCP, etc.)**\\n* **Any specific ML models or algorithms you're currently working with**\\n* **The biggest challenges you face in your role**\\n\\nI'm here to listen and learn! 😊  \\n\\n\""
      ]
     },
     "execution_count": 12,
     "metadata": {},
     "output_type": "execute_result"
    }
   ],
   "source": [
    "response.content"
   ]
  },
  {
   "cell_type": "markdown",
   "metadata": {},
   "source": [
    "all the history is in Session, even if we change the config"
   ]
  },
  {
   "cell_type": "code",
   "execution_count": 17,
   "metadata": {},
   "outputs": [
    {
     "data": {
      "text/plain": [
       "'Your name is Ravi!  \\n\\nYou told me at the start of our conversation. 😊  \\n\\nIs there anything else I can help you with today, Ravi?  \\n\\n\\n'"
      ]
     },
     "execution_count": 17,
     "metadata": {},
     "output_type": "execute_result"
    }
   ],
   "source": [
    "\n",
    "config1={\"configurable\":{\"session_id\":\"chat1\"}}\n",
    "response=with_message_hist.invoke(\n",
    "    [HumanMessage(content=\"Hi, what is my Name?\")],\n",
    "    config=config1\n",
    ")\n",
    "response.content"
   ]
  },
  {
   "cell_type": "code",
   "execution_count": null,
   "metadata": {},
   "outputs": [],
   "source": []
  }
 ],
 "metadata": {
  "kernelspec": {
   "display_name": "Python 3",
   "language": "python",
   "name": "python3"
  },
  "language_info": {
   "codemirror_mode": {
    "name": "ipython",
    "version": 3
   },
   "file_extension": ".py",
   "mimetype": "text/x-python",
   "name": "python",
   "nbconvert_exporter": "python",
   "pygments_lexer": "ipython3",
   "version": "3.12.3"
  }
 },
 "nbformat": 4,
 "nbformat_minor": 2
}
