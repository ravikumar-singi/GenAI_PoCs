{
 "cells": [
  {
   "cell_type": "markdown",
   "metadata": {},
   "source": [
    "### Vector stores and retrievers\n",
    "This video tutorial will familiarize you with LangChain's vector store and retriever abstractions. These abstractions are designed to support retrieval of data-- from (vector) databases and other sources-- for integration with LLM workflows. They are important for applications that fetch data to be reasoned over as part of model inference, as in the case of retrieval-augmented generation.\n",
    "\n",
    "We will cover \n",
    "- Documents\n",
    "- Vector stores\n",
    "- Retrievers\n"
   ]
  },
  {
   "cell_type": "code",
   "execution_count": 1,
   "metadata": {},
   "outputs": [
    {
     "name": "stderr",
     "output_type": "stream",
     "text": [
      "ERROR: Could not find a version that satisfies the requirement lnagchain (from versions: none)\n",
      "ERROR: No matching distribution found for lnagchain\n"
     ]
    },
    {
     "name": "stdout",
     "output_type": "stream",
     "text": [
      "Requirement already satisfied: langchain-chroma in e:\\udemy final\\langchain\\venv\\lib\\site-packages (0.1.1)\n",
      "Requirement already satisfied: chromadb<0.6.0,>=0.4.0 in e:\\udemy final\\langchain\\venv\\lib\\site-packages (from langchain-chroma) (0.5.3)\n",
      "Requirement already satisfied: fastapi<1,>=0.95.2 in e:\\udemy final\\langchain\\venv\\lib\\site-packages (from langchain-chroma) (0.111.0)\n",
      "Requirement already satisfied: langchain-core<0.3,>=0.1.40 in e:\\udemy final\\langchain\\venv\\lib\\site-packages (from langchain-chroma) (0.2.10)\n",
      "Requirement already satisfied: numpy<2,>=1 in e:\\udemy final\\langchain\\venv\\lib\\site-packages (from langchain-chroma) (1.26.4)\n",
      "Requirement already satisfied: build>=1.0.3 in e:\\udemy final\\langchain\\venv\\lib\\site-packages (from chromadb<0.6.0,>=0.4.0->langchain-chroma) (1.2.1)\n",
      "Requirement already satisfied: requests>=2.28 in e:\\udemy final\\langchain\\venv\\lib\\site-packages (from chromadb<0.6.0,>=0.4.0->langchain-chroma) (2.31.0)\n",
      "Requirement already satisfied: pydantic>=1.9 in e:\\udemy final\\langchain\\venv\\lib\\site-packages (from chromadb<0.6.0,>=0.4.0->langchain-chroma) (1.10.13)\n",
      "Requirement already satisfied: chroma-hnswlib==0.7.3 in e:\\udemy final\\langchain\\venv\\lib\\site-packages (from chromadb<0.6.0,>=0.4.0->langchain-chroma) (0.7.3)\n",
      "Requirement already satisfied: uvicorn>=0.18.3 in e:\\udemy final\\langchain\\venv\\lib\\site-packages (from uvicorn[standard]>=0.18.3->chromadb<0.6.0,>=0.4.0->langchain-chroma) (0.30.1)\n",
      "Requirement already satisfied: posthog>=2.4.0 in e:\\udemy final\\langchain\\venv\\lib\\site-packages (from chromadb<0.6.0,>=0.4.0->langchain-chroma) (3.5.0)\n",
      "Requirement already satisfied: typing-extensions>=4.5.0 in e:\\udemy final\\langchain\\venv\\lib\\site-packages (from chromadb<0.6.0,>=0.4.0->langchain-chroma) (4.12.2)\n",
      "Requirement already satisfied: onnxruntime>=1.14.1 in e:\\udemy final\\langchain\\venv\\lib\\site-packages (from chromadb<0.6.0,>=0.4.0->langchain-chroma) (1.18.0)\n",
      "Requirement already satisfied: opentelemetry-api>=1.2.0 in e:\\udemy final\\langchain\\venv\\lib\\site-packages (from chromadb<0.6.0,>=0.4.0->langchain-chroma) (1.25.0)\n",
      "Requirement already satisfied: opentelemetry-exporter-otlp-proto-grpc>=1.2.0 in e:\\udemy final\\langchain\\venv\\lib\\site-packages (from chromadb<0.6.0,>=0.4.0->langchain-chroma) (1.25.0)\n",
      "Requirement already satisfied: opentelemetry-instrumentation-fastapi>=0.41b0 in e:\\udemy final\\langchain\\venv\\lib\\site-packages (from chromadb<0.6.0,>=0.4.0->langchain-chroma) (0.46b0)\n",
      "Requirement already satisfied: opentelemetry-sdk>=1.2.0 in e:\\udemy final\\langchain\\venv\\lib\\site-packages (from chromadb<0.6.0,>=0.4.0->langchain-chroma) (1.25.0)\n",
      "Requirement already satisfied: tokenizers>=0.13.2 in e:\\udemy final\\langchain\\venv\\lib\\site-packages (from chromadb<0.6.0,>=0.4.0->langchain-chroma) (0.19.1)\n",
      "Requirement already satisfied: pypika>=0.48.9 in e:\\udemy final\\langchain\\venv\\lib\\site-packages (from chromadb<0.6.0,>=0.4.0->langchain-chroma) (0.48.9)\n",
      "Requirement already satisfied: tqdm>=4.65.0 in e:\\udemy final\\langchain\\venv\\lib\\site-packages (from chromadb<0.6.0,>=0.4.0->langchain-chroma) (4.66.4)\n",
      "Requirement already satisfied: overrides>=7.3.1 in e:\\udemy final\\langchain\\venv\\lib\\site-packages (from chromadb<0.6.0,>=0.4.0->langchain-chroma) (7.7.0)\n",
      "Requirement already satisfied: importlib-resources in e:\\udemy final\\langchain\\venv\\lib\\site-packages (from chromadb<0.6.0,>=0.4.0->langchain-chroma) (6.4.0)\n",
      "Requirement already satisfied: grpcio>=1.58.0 in e:\\udemy final\\langchain\\venv\\lib\\site-packages (from chromadb<0.6.0,>=0.4.0->langchain-chroma) (1.64.1)\n",
      "Requirement already satisfied: bcrypt>=4.0.1 in e:\\udemy final\\langchain\\venv\\lib\\site-packages (from chromadb<0.6.0,>=0.4.0->langchain-chroma) (4.1.3)\n",
      "Requirement already satisfied: typer>=0.9.0 in e:\\udemy final\\langchain\\venv\\lib\\site-packages (from chromadb<0.6.0,>=0.4.0->langchain-chroma) (0.12.3)\n",
      "Requirement already satisfied: kubernetes>=28.1.0 in e:\\udemy final\\langchain\\venv\\lib\\site-packages (from chromadb<0.6.0,>=0.4.0->langchain-chroma) (30.1.0)\n",
      "Requirement already satisfied: tenacity>=8.2.3 in e:\\udemy final\\langchain\\venv\\lib\\site-packages (from chromadb<0.6.0,>=0.4.0->langchain-chroma) (8.4.1)\n",
      "Requirement already satisfied: PyYAML>=6.0.0 in e:\\udemy final\\langchain\\venv\\lib\\site-packages (from chromadb<0.6.0,>=0.4.0->langchain-chroma) (6.0.1)\n",
      "Requirement already satisfied: mmh3>=4.0.1 in e:\\udemy final\\langchain\\venv\\lib\\site-packages (from chromadb<0.6.0,>=0.4.0->langchain-chroma) (4.1.0)\n",
      "Requirement already satisfied: orjson>=3.9.12 in e:\\udemy final\\langchain\\venv\\lib\\site-packages (from chromadb<0.6.0,>=0.4.0->langchain-chroma) (3.10.5)\n",
      "Requirement already satisfied: httpx>=0.27.0 in e:\\udemy final\\langchain\\venv\\lib\\site-packages (from chromadb<0.6.0,>=0.4.0->langchain-chroma) (0.27.0)\n",
      "Requirement already satisfied: starlette<0.38.0,>=0.37.2 in e:\\udemy final\\langchain\\venv\\lib\\site-packages (from fastapi<1,>=0.95.2->langchain-chroma) (0.37.2)\n",
      "Requirement already satisfied: fastapi-cli>=0.0.2 in e:\\udemy final\\langchain\\venv\\lib\\site-packages (from fastapi<1,>=0.95.2->langchain-chroma) (0.0.4)\n",
      "Requirement already satisfied: jinja2>=2.11.2 in e:\\udemy final\\langchain\\venv\\lib\\site-packages (from fastapi<1,>=0.95.2->langchain-chroma) (3.1.4)\n",
      "Requirement already satisfied: python-multipart>=0.0.7 in e:\\udemy final\\langchain\\venv\\lib\\site-packages (from fastapi<1,>=0.95.2->langchain-chroma) (0.0.9)\n",
      "Requirement already satisfied: ujson!=4.0.2,!=4.1.0,!=4.2.0,!=4.3.0,!=5.0.0,!=5.1.0,>=4.0.1 in e:\\udemy final\\langchain\\venv\\lib\\site-packages (from fastapi<1,>=0.95.2->langchain-chroma) (5.10.0)\n",
      "Requirement already satisfied: email_validator>=2.0.0 in e:\\udemy final\\langchain\\venv\\lib\\site-packages (from fastapi<1,>=0.95.2->langchain-chroma) (2.2.0)\n",
      "Requirement already satisfied: jsonpatch<2.0,>=1.33 in e:\\udemy final\\langchain\\venv\\lib\\site-packages (from langchain-core<0.3,>=0.1.40->langchain-chroma) (1.33)\n",
      "Requirement already satisfied: langsmith<0.2.0,>=0.1.75 in e:\\udemy final\\langchain\\venv\\lib\\site-packages (from langchain-core<0.3,>=0.1.40->langchain-chroma) (0.1.77)\n",
      "Requirement already satisfied: packaging<25,>=23.2 in e:\\udemy final\\langchain\\venv\\lib\\site-packages (from langchain-core<0.3,>=0.1.40->langchain-chroma) (24.1)\n",
      "Requirement already satisfied: pyproject_hooks in e:\\udemy final\\langchain\\venv\\lib\\site-packages (from build>=1.0.3->chromadb<0.6.0,>=0.4.0->langchain-chroma) (1.1.0)\n",
      "Requirement already satisfied: colorama in e:\\udemy final\\langchain\\venv\\lib\\site-packages (from build>=1.0.3->chromadb<0.6.0,>=0.4.0->langchain-chroma) (0.4.6)\n",
      "Requirement already satisfied: importlib-metadata>=4.6 in e:\\udemy final\\langchain\\venv\\lib\\site-packages (from build>=1.0.3->chromadb<0.6.0,>=0.4.0->langchain-chroma) (7.1.0)\n",
      "Requirement already satisfied: tomli>=1.1.0 in e:\\udemy final\\langchain\\venv\\lib\\site-packages (from build>=1.0.3->chromadb<0.6.0,>=0.4.0->langchain-chroma) (2.0.1)\n",
      "Requirement already satisfied: dnspython>=2.0.0 in e:\\udemy final\\langchain\\venv\\lib\\site-packages (from email_validator>=2.0.0->fastapi<1,>=0.95.2->langchain-chroma) (2.6.1)\n",
      "Requirement already satisfied: idna>=2.0.0 in e:\\udemy final\\langchain\\venv\\lib\\site-packages (from email_validator>=2.0.0->fastapi<1,>=0.95.2->langchain-chroma) (3.7)\n",
      "Requirement already satisfied: anyio in e:\\udemy final\\langchain\\venv\\lib\\site-packages (from httpx>=0.27.0->chromadb<0.6.0,>=0.4.0->langchain-chroma) (4.4.0)\n",
      "Requirement already satisfied: certifi in e:\\udemy final\\langchain\\venv\\lib\\site-packages (from httpx>=0.27.0->chromadb<0.6.0,>=0.4.0->langchain-chroma) (2024.6.2)\n",
      "Requirement already satisfied: httpcore==1.* in e:\\udemy final\\langchain\\venv\\lib\\site-packages (from httpx>=0.27.0->chromadb<0.6.0,>=0.4.0->langchain-chroma) (1.0.5)\n",
      "Requirement already satisfied: sniffio in e:\\udemy final\\langchain\\venv\\lib\\site-packages (from httpx>=0.27.0->chromadb<0.6.0,>=0.4.0->langchain-chroma) (1.3.1)\n",
      "Requirement already satisfied: h11<0.15,>=0.13 in e:\\udemy final\\langchain\\venv\\lib\\site-packages (from httpcore==1.*->httpx>=0.27.0->chromadb<0.6.0,>=0.4.0->langchain-chroma) (0.14.0)\n",
      "Requirement already satisfied: MarkupSafe>=2.0 in e:\\udemy final\\langchain\\venv\\lib\\site-packages (from jinja2>=2.11.2->fastapi<1,>=0.95.2->langchain-chroma) (2.1.5)\n",
      "Requirement already satisfied: jsonpointer>=1.9 in e:\\udemy final\\langchain\\venv\\lib\\site-packages (from jsonpatch<2.0,>=1.33->langchain-core<0.3,>=0.1.40->langchain-chroma) (3.0.0)\n",
      "Requirement already satisfied: six>=1.9.0 in e:\\udemy final\\langchain\\venv\\lib\\site-packages (from kubernetes>=28.1.0->chromadb<0.6.0,>=0.4.0->langchain-chroma) (1.16.0)\n",
      "Requirement already satisfied: python-dateutil>=2.5.3 in e:\\udemy final\\langchain\\venv\\lib\\site-packages (from kubernetes>=28.1.0->chromadb<0.6.0,>=0.4.0->langchain-chroma) (2.9.0.post0)\n",
      "Requirement already satisfied: google-auth>=1.0.1 in e:\\udemy final\\langchain\\venv\\lib\\site-packages (from kubernetes>=28.1.0->chromadb<0.6.0,>=0.4.0->langchain-chroma) (2.30.0)\n",
      "Requirement already satisfied: websocket-client!=0.40.0,!=0.41.*,!=0.42.*,>=0.32.0 in e:\\udemy final\\langchain\\venv\\lib\\site-packages (from kubernetes>=28.1.0->chromadb<0.6.0,>=0.4.0->langchain-chroma) (1.8.0)\n",
      "Requirement already satisfied: requests-oauthlib in e:\\udemy final\\langchain\\venv\\lib\\site-packages (from kubernetes>=28.1.0->chromadb<0.6.0,>=0.4.0->langchain-chroma) (2.0.0)\n",
      "Requirement already satisfied: oauthlib>=3.2.2 in e:\\udemy final\\langchain\\venv\\lib\\site-packages (from kubernetes>=28.1.0->chromadb<0.6.0,>=0.4.0->langchain-chroma) (3.2.2)\n",
      "Requirement already satisfied: urllib3>=1.24.2 in e:\\udemy final\\langchain\\venv\\lib\\site-packages (from kubernetes>=28.1.0->chromadb<0.6.0,>=0.4.0->langchain-chroma) (2.2.2)\n",
      "Requirement already satisfied: coloredlogs in e:\\udemy final\\langchain\\venv\\lib\\site-packages (from onnxruntime>=1.14.1->chromadb<0.6.0,>=0.4.0->langchain-chroma) (15.0.1)\n",
      "Requirement already satisfied: flatbuffers in e:\\udemy final\\langchain\\venv\\lib\\site-packages (from onnxruntime>=1.14.1->chromadb<0.6.0,>=0.4.0->langchain-chroma) (24.3.25)\n",
      "Requirement already satisfied: protobuf in e:\\udemy final\\langchain\\venv\\lib\\site-packages (from onnxruntime>=1.14.1->chromadb<0.6.0,>=0.4.0->langchain-chroma) (4.25.3)\n",
      "Requirement already satisfied: sympy in e:\\udemy final\\langchain\\venv\\lib\\site-packages (from onnxruntime>=1.14.1->chromadb<0.6.0,>=0.4.0->langchain-chroma) (1.12.1)\n",
      "Requirement already satisfied: deprecated>=1.2.6 in e:\\udemy final\\langchain\\venv\\lib\\site-packages (from opentelemetry-api>=1.2.0->chromadb<0.6.0,>=0.4.0->langchain-chroma) (1.2.14)\n",
      "Requirement already satisfied: googleapis-common-protos~=1.52 in e:\\udemy final\\langchain\\venv\\lib\\site-packages (from opentelemetry-exporter-otlp-proto-grpc>=1.2.0->chromadb<0.6.0,>=0.4.0->langchain-chroma) (1.63.1)\n",
      "Requirement already satisfied: opentelemetry-exporter-otlp-proto-common==1.25.0 in e:\\udemy final\\langchain\\venv\\lib\\site-packages (from opentelemetry-exporter-otlp-proto-grpc>=1.2.0->chromadb<0.6.0,>=0.4.0->langchain-chroma) (1.25.0)\n",
      "Requirement already satisfied: opentelemetry-proto==1.25.0 in e:\\udemy final\\langchain\\venv\\lib\\site-packages (from opentelemetry-exporter-otlp-proto-grpc>=1.2.0->chromadb<0.6.0,>=0.4.0->langchain-chroma) (1.25.0)\n",
      "Requirement already satisfied: opentelemetry-instrumentation-asgi==0.46b0 in e:\\udemy final\\langchain\\venv\\lib\\site-packages (from opentelemetry-instrumentation-fastapi>=0.41b0->chromadb<0.6.0,>=0.4.0->langchain-chroma) (0.46b0)\n",
      "Requirement already satisfied: opentelemetry-instrumentation==0.46b0 in e:\\udemy final\\langchain\\venv\\lib\\site-packages (from opentelemetry-instrumentation-fastapi>=0.41b0->chromadb<0.6.0,>=0.4.0->langchain-chroma) (0.46b0)\n",
      "Requirement already satisfied: opentelemetry-semantic-conventions==0.46b0 in e:\\udemy final\\langchain\\venv\\lib\\site-packages (from opentelemetry-instrumentation-fastapi>=0.41b0->chromadb<0.6.0,>=0.4.0->langchain-chroma) (0.46b0)\n",
      "Requirement already satisfied: opentelemetry-util-http==0.46b0 in e:\\udemy final\\langchain\\venv\\lib\\site-packages (from opentelemetry-instrumentation-fastapi>=0.41b0->chromadb<0.6.0,>=0.4.0->langchain-chroma) (0.46b0)\n",
      "Requirement already satisfied: setuptools>=16.0 in e:\\udemy final\\langchain\\venv\\lib\\site-packages (from opentelemetry-instrumentation==0.46b0->opentelemetry-instrumentation-fastapi>=0.41b0->chromadb<0.6.0,>=0.4.0->langchain-chroma) (69.5.1)\n",
      "Requirement already satisfied: wrapt<2.0.0,>=1.0.0 in e:\\udemy final\\langchain\\venv\\lib\\site-packages (from opentelemetry-instrumentation==0.46b0->opentelemetry-instrumentation-fastapi>=0.41b0->chromadb<0.6.0,>=0.4.0->langchain-chroma) (1.16.0)\n",
      "Requirement already satisfied: asgiref~=3.0 in e:\\udemy final\\langchain\\venv\\lib\\site-packages (from opentelemetry-instrumentation-asgi==0.46b0->opentelemetry-instrumentation-fastapi>=0.41b0->chromadb<0.6.0,>=0.4.0->langchain-chroma) (3.8.1)\n",
      "Requirement already satisfied: monotonic>=1.5 in e:\\udemy final\\langchain\\venv\\lib\\site-packages (from posthog>=2.4.0->chromadb<0.6.0,>=0.4.0->langchain-chroma) (1.6)\n",
      "Requirement already satisfied: backoff>=1.10.0 in e:\\udemy final\\langchain\\venv\\lib\\site-packages (from posthog>=2.4.0->chromadb<0.6.0,>=0.4.0->langchain-chroma) (2.2.1)\n",
      "Requirement already satisfied: charset-normalizer<4,>=2 in e:\\udemy final\\langchain\\venv\\lib\\site-packages (from requests>=2.28->chromadb<0.6.0,>=0.4.0->langchain-chroma) (3.3.2)\n",
      "Requirement already satisfied: huggingface-hub<1.0,>=0.16.4 in e:\\udemy final\\langchain\\venv\\lib\\site-packages (from tokenizers>=0.13.2->chromadb<0.6.0,>=0.4.0->langchain-chroma) (0.23.4)\n",
      "Requirement already satisfied: click>=8.0.0 in e:\\udemy final\\langchain\\venv\\lib\\site-packages (from typer>=0.9.0->chromadb<0.6.0,>=0.4.0->langchain-chroma) (8.1.7)\n",
      "Requirement already satisfied: shellingham>=1.3.0 in e:\\udemy final\\langchain\\venv\\lib\\site-packages (from typer>=0.9.0->chromadb<0.6.0,>=0.4.0->langchain-chroma) (1.5.4)\n",
      "Requirement already satisfied: rich>=10.11.0 in e:\\udemy final\\langchain\\venv\\lib\\site-packages (from typer>=0.9.0->chromadb<0.6.0,>=0.4.0->langchain-chroma) (13.7.1)\n",
      "Requirement already satisfied: httptools>=0.5.0 in e:\\udemy final\\langchain\\venv\\lib\\site-packages (from uvicorn[standard]>=0.18.3->chromadb<0.6.0,>=0.4.0->langchain-chroma) (0.6.1)\n",
      "Requirement already satisfied: python-dotenv>=0.13 in e:\\udemy final\\langchain\\venv\\lib\\site-packages (from uvicorn[standard]>=0.18.3->chromadb<0.6.0,>=0.4.0->langchain-chroma) (1.0.1)\n",
      "Requirement already satisfied: watchfiles>=0.13 in e:\\udemy final\\langchain\\venv\\lib\\site-packages (from uvicorn[standard]>=0.18.3->chromadb<0.6.0,>=0.4.0->langchain-chroma) (0.22.0)\n",
      "Requirement already satisfied: websockets>=10.4 in e:\\udemy final\\langchain\\venv\\lib\\site-packages (from uvicorn[standard]>=0.18.3->chromadb<0.6.0,>=0.4.0->langchain-chroma) (12.0)\n",
      "Requirement already satisfied: exceptiongroup>=1.0.2 in e:\\udemy final\\langchain\\venv\\lib\\site-packages (from anyio->httpx>=0.27.0->chromadb<0.6.0,>=0.4.0->langchain-chroma) (1.2.1)\n",
      "Requirement already satisfied: cachetools<6.0,>=2.0.0 in e:\\udemy final\\langchain\\venv\\lib\\site-packages (from google-auth>=1.0.1->kubernetes>=28.1.0->chromadb<0.6.0,>=0.4.0->langchain-chroma) (5.3.3)\n",
      "Requirement already satisfied: pyasn1-modules>=0.2.1 in e:\\udemy final\\langchain\\venv\\lib\\site-packages (from google-auth>=1.0.1->kubernetes>=28.1.0->chromadb<0.6.0,>=0.4.0->langchain-chroma) (0.4.0)\n",
      "Requirement already satisfied: rsa<5,>=3.1.4 in e:\\udemy final\\langchain\\venv\\lib\\site-packages (from google-auth>=1.0.1->kubernetes>=28.1.0->chromadb<0.6.0,>=0.4.0->langchain-chroma) (4.9)\n",
      "Requirement already satisfied: filelock in e:\\udemy final\\langchain\\venv\\lib\\site-packages (from huggingface-hub<1.0,>=0.16.4->tokenizers>=0.13.2->chromadb<0.6.0,>=0.4.0->langchain-chroma) (3.15.4)\n",
      "Requirement already satisfied: fsspec>=2023.5.0 in e:\\udemy final\\langchain\\venv\\lib\\site-packages (from huggingface-hub<1.0,>=0.16.4->tokenizers>=0.13.2->chromadb<0.6.0,>=0.4.0->langchain-chroma) (2024.6.0)\n",
      "Requirement already satisfied: zipp>=0.5 in e:\\udemy final\\langchain\\venv\\lib\\site-packages (from importlib-metadata>=4.6->build>=1.0.3->chromadb<0.6.0,>=0.4.0->langchain-chroma) (3.19.2)\n",
      "Requirement already satisfied: markdown-it-py>=2.2.0 in e:\\udemy final\\langchain\\venv\\lib\\site-packages (from rich>=10.11.0->typer>=0.9.0->chromadb<0.6.0,>=0.4.0->langchain-chroma) (3.0.0)\n",
      "Requirement already satisfied: pygments<3.0.0,>=2.13.0 in e:\\udemy final\\langchain\\venv\\lib\\site-packages (from rich>=10.11.0->typer>=0.9.0->chromadb<0.6.0,>=0.4.0->langchain-chroma) (2.18.0)\n",
      "Requirement already satisfied: humanfriendly>=9.1 in e:\\udemy final\\langchain\\venv\\lib\\site-packages (from coloredlogs->onnxruntime>=1.14.1->chromadb<0.6.0,>=0.4.0->langchain-chroma) (10.0)\n",
      "Requirement already satisfied: mpmath<1.4.0,>=1.1.0 in e:\\udemy final\\langchain\\venv\\lib\\site-packages (from sympy->onnxruntime>=1.14.1->chromadb<0.6.0,>=0.4.0->langchain-chroma) (1.3.0)\n",
      "Requirement already satisfied: pyreadline3 in e:\\udemy final\\langchain\\venv\\lib\\site-packages (from humanfriendly>=9.1->coloredlogs->onnxruntime>=1.14.1->chromadb<0.6.0,>=0.4.0->langchain-chroma) (3.4.1)\n",
      "Requirement already satisfied: mdurl~=0.1 in e:\\udemy final\\langchain\\venv\\lib\\site-packages (from markdown-it-py>=2.2.0->rich>=10.11.0->typer>=0.9.0->chromadb<0.6.0,>=0.4.0->langchain-chroma) (0.1.2)\n",
      "Requirement already satisfied: pyasn1<0.7.0,>=0.4.6 in e:\\udemy final\\langchain\\venv\\lib\\site-packages (from pyasn1-modules>=0.2.1->google-auth>=1.0.1->kubernetes>=28.1.0->chromadb<0.6.0,>=0.4.0->langchain-chroma) (0.6.0)\n",
      "Requirement already satisfied: langchain_groq in e:\\udemy final\\langchain\\venv\\lib\\site-packages (0.1.6)\n",
      "Requirement already satisfied: groq<1,>=0.4.1 in e:\\udemy final\\langchain\\venv\\lib\\site-packages (from langchain_groq) (0.9.0)\n",
      "Requirement already satisfied: langchain-core<0.3,>=0.2.2 in e:\\udemy final\\langchain\\venv\\lib\\site-packages (from langchain_groq) (0.2.10)\n",
      "Requirement already satisfied: anyio<5,>=3.5.0 in e:\\udemy final\\langchain\\venv\\lib\\site-packages (from groq<1,>=0.4.1->langchain_groq) (4.4.0)\n",
      "Requirement already satisfied: distro<2,>=1.7.0 in e:\\udemy final\\langchain\\venv\\lib\\site-packages (from groq<1,>=0.4.1->langchain_groq) (1.9.0)\n",
      "Requirement already satisfied: httpx<1,>=0.23.0 in e:\\udemy final\\langchain\\venv\\lib\\site-packages (from groq<1,>=0.4.1->langchain_groq) (0.27.0)\n",
      "Requirement already satisfied: pydantic<3,>=1.9.0 in e:\\udemy final\\langchain\\venv\\lib\\site-packages (from groq<1,>=0.4.1->langchain_groq) (1.10.13)\n",
      "Requirement already satisfied: sniffio in e:\\udemy final\\langchain\\venv\\lib\\site-packages (from groq<1,>=0.4.1->langchain_groq) (1.3.1)\n",
      "Requirement already satisfied: typing-extensions<5,>=4.7 in e:\\udemy final\\langchain\\venv\\lib\\site-packages (from groq<1,>=0.4.1->langchain_groq) (4.12.2)\n",
      "Requirement already satisfied: PyYAML>=5.3 in e:\\udemy final\\langchain\\venv\\lib\\site-packages (from langchain-core<0.3,>=0.2.2->langchain_groq) (6.0.1)\n",
      "Requirement already satisfied: jsonpatch<2.0,>=1.33 in e:\\udemy final\\langchain\\venv\\lib\\site-packages (from langchain-core<0.3,>=0.2.2->langchain_groq) (1.33)\n",
      "Requirement already satisfied: langsmith<0.2.0,>=0.1.75 in e:\\udemy final\\langchain\\venv\\lib\\site-packages (from langchain-core<0.3,>=0.2.2->langchain_groq) (0.1.77)\n",
      "Requirement already satisfied: packaging<25,>=23.2 in e:\\udemy final\\langchain\\venv\\lib\\site-packages (from langchain-core<0.3,>=0.2.2->langchain_groq) (24.1)\n",
      "Requirement already satisfied: tenacity!=8.4.0,<9.0.0,>=8.1.0 in e:\\udemy final\\langchain\\venv\\lib\\site-packages (from langchain-core<0.3,>=0.2.2->langchain_groq) (8.4.1)\n",
      "Requirement already satisfied: idna>=2.8 in e:\\udemy final\\langchain\\venv\\lib\\site-packages (from anyio<5,>=3.5.0->groq<1,>=0.4.1->langchain_groq) (3.7)\n",
      "Requirement already satisfied: exceptiongroup>=1.0.2 in e:\\udemy final\\langchain\\venv\\lib\\site-packages (from anyio<5,>=3.5.0->groq<1,>=0.4.1->langchain_groq) (1.2.1)\n",
      "Requirement already satisfied: certifi in e:\\udemy final\\langchain\\venv\\lib\\site-packages (from httpx<1,>=0.23.0->groq<1,>=0.4.1->langchain_groq) (2024.6.2)\n",
      "Requirement already satisfied: httpcore==1.* in e:\\udemy final\\langchain\\venv\\lib\\site-packages (from httpx<1,>=0.23.0->groq<1,>=0.4.1->langchain_groq) (1.0.5)\n",
      "Requirement already satisfied: h11<0.15,>=0.13 in e:\\udemy final\\langchain\\venv\\lib\\site-packages (from httpcore==1.*->httpx<1,>=0.23.0->groq<1,>=0.4.1->langchain_groq) (0.14.0)\n",
      "Requirement already satisfied: jsonpointer>=1.9 in e:\\udemy final\\langchain\\venv\\lib\\site-packages (from jsonpatch<2.0,>=1.33->langchain-core<0.3,>=0.2.2->langchain_groq) (3.0.0)\n",
      "Requirement already satisfied: orjson<4.0.0,>=3.9.14 in e:\\udemy final\\langchain\\venv\\lib\\site-packages (from langsmith<0.2.0,>=0.1.75->langchain-core<0.3,>=0.2.2->langchain_groq) (3.10.5)\n",
      "Requirement already satisfied: requests<3,>=2 in e:\\udemy final\\langchain\\venv\\lib\\site-packages (from langsmith<0.2.0,>=0.1.75->langchain-core<0.3,>=0.2.2->langchain_groq) (2.31.0)\n",
      "Requirement already satisfied: charset-normalizer<4,>=2 in e:\\udemy final\\langchain\\venv\\lib\\site-packages (from requests<3,>=2->langsmith<0.2.0,>=0.1.75->langchain-core<0.3,>=0.2.2->langchain_groq) (3.3.2)\n",
      "Requirement already satisfied: urllib3<3,>=1.21.1 in e:\\udemy final\\langchain\\venv\\lib\\site-packages (from requests<3,>=2->langsmith<0.2.0,>=0.1.75->langchain-core<0.3,>=0.2.2->langchain_groq) (2.2.2)\n"
     ]
    }
   ],
   "source": [
    "!pip install langchain\n",
    "!pip install langchain-chroma\n",
    "!pip install langchain_groq"
   ]
  },
  {
   "cell_type": "markdown",
   "metadata": {},
   "source": [
    "### Documents\n",
    "LangChain implements a Document abstraction, which is intended to represent a unit of text and associated metadata. It has two attributes:\n",
    "\n",
    "- page_content: a string representing the content;\n",
    "- metadata: a dict containing arbitrary metadata.\n",
    "The metadata attribute can capture information about the source of the document, its relationship to other documents, and other information. Note that an individual Document object often represents a chunk of a larger document.\n",
    "\n",
    "Let's generate some sample documents:"
   ]
  },
  {
   "cell_type": "code",
   "execution_count": 1,
   "metadata": {},
   "outputs": [],
   "source": [
    "from langchain_core.documents import Document\n",
    "\n",
    "documents = [\n",
    "    Document(\n",
    "        page_content=\"Dogs are great companions, known for their loyalty and friendliness.\",\n",
    "        metadata={\"source\": \"mammal-pets-doc\"},\n",
    "    ),\n",
    "    Document(\n",
    "        page_content=\"Cats are independent pets that often enjoy their own space.\",\n",
    "        metadata={\"source\": \"mammal-pets-doc\"},\n",
    "    ),\n",
    "    Document(\n",
    "        page_content=\"Goldfish are popular pets for beginners, requiring relatively simple care.\",\n",
    "        metadata={\"source\": \"fish-pets-doc\"},\n",
    "    ),\n",
    "    Document(\n",
    "        page_content=\"Parrots are intelligent birds capable of mimicking human speech.\",\n",
    "        metadata={\"source\": \"bird-pets-doc\"},\n",
    "    ),\n",
    "    Document(\n",
    "        page_content=\"Rabbits are social animals that need plenty of space to hop around.\",\n",
    "        metadata={\"source\": \"mammal-pets-doc\"},\n",
    "    ),\n",
    "]"
   ]
  },
  {
   "cell_type": "code",
   "execution_count": 2,
   "metadata": {},
   "outputs": [
    {
     "data": {
      "text/plain": [
       "[Document(metadata={'source': 'mammal-pets-doc'}, page_content='Dogs are great companions, known for their loyalty and friendliness.'),\n",
       " Document(metadata={'source': 'mammal-pets-doc'}, page_content='Cats are independent pets that often enjoy their own space.'),\n",
       " Document(metadata={'source': 'fish-pets-doc'}, page_content='Goldfish are popular pets for beginners, requiring relatively simple care.'),\n",
       " Document(metadata={'source': 'bird-pets-doc'}, page_content='Parrots are intelligent birds capable of mimicking human speech.'),\n",
       " Document(metadata={'source': 'mammal-pets-doc'}, page_content='Rabbits are social animals that need plenty of space to hop around.')]"
      ]
     },
     "execution_count": 2,
     "metadata": {},
     "output_type": "execute_result"
    }
   ],
   "source": [
    "documents"
   ]
  },
  {
   "cell_type": "code",
   "execution_count": 4,
   "metadata": {},
   "outputs": [
    {
     "data": {
      "text/plain": [
       "ChatGroq(client=<groq.resources.chat.completions.Completions object at 0x00000173CFA9CAF0>, async_client=<groq.resources.chat.completions.AsyncCompletions object at 0x00000173CFA7BDF0>, model_name='Llama3-8b-8192', groq_api_key=SecretStr('**********'))"
      ]
     },
     "execution_count": 4,
     "metadata": {},
     "output_type": "execute_result"
    }
   ],
   "source": [
    "import os\n",
    "from dotenv import load_dotenv\n",
    "load_dotenv()\n",
    "from langchain_groq import ChatGroq\n",
    "groq_api_key=os.getenv(\"GROQ_API_KEY\")\n",
    "\n",
    "os.environ[\"HF_TOKEN\"]=os.getenv(\"HF_TOKEN\")\n",
    "\n",
    "llm=ChatGroq(groq_api_key=groq_api_key,model=\"Llama3-8b-8192\")\n",
    "llm"
   ]
  },
  {
   "cell_type": "code",
   "execution_count": 5,
   "metadata": {},
   "outputs": [
    {
     "name": "stdout",
     "output_type": "stream",
     "text": [
      "Collecting langchain_huggingface\n",
      "  Downloading langchain_huggingface-0.0.3-py3-none-any.whl.metadata (1.2 kB)\n",
      "Requirement already satisfied: huggingface-hub>=0.23.0 in d:\\source\\ai projects\\genai_pocs\\.conda\\lib\\site-packages (from langchain_huggingface) (0.24.5)\n",
      "Requirement already satisfied: langchain-core<0.3,>=0.1.52 in d:\\source\\ai projects\\genai_pocs\\.conda\\lib\\site-packages (from langchain_huggingface) (0.2.33)\n",
      "Collecting sentence-transformers>=2.6.0 (from langchain_huggingface)\n",
      "  Downloading sentence_transformers-3.0.1-py3-none-any.whl.metadata (10 kB)\n",
      "Requirement already satisfied: tokenizers>=0.19.1 in d:\\source\\ai projects\\genai_pocs\\.conda\\lib\\site-packages (from langchain_huggingface) (0.19.1)\n",
      "Requirement already satisfied: transformers>=4.39.0 in d:\\source\\ai projects\\genai_pocs\\.conda\\lib\\site-packages (from langchain_huggingface) (4.44.0)\n",
      "Requirement already satisfied: filelock in d:\\source\\ai projects\\genai_pocs\\.conda\\lib\\site-packages (from huggingface-hub>=0.23.0->langchain_huggingface) (3.15.4)\n",
      "Requirement already satisfied: fsspec>=2023.5.0 in d:\\source\\ai projects\\genai_pocs\\.conda\\lib\\site-packages (from huggingface-hub>=0.23.0->langchain_huggingface) (2024.6.1)\n",
      "Requirement already satisfied: packaging>=20.9 in d:\\source\\ai projects\\genai_pocs\\.conda\\lib\\site-packages (from huggingface-hub>=0.23.0->langchain_huggingface) (24.1)\n",
      "Requirement already satisfied: pyyaml>=5.1 in d:\\source\\ai projects\\genai_pocs\\.conda\\lib\\site-packages (from huggingface-hub>=0.23.0->langchain_huggingface) (6.0.2)\n",
      "Requirement already satisfied: requests in d:\\source\\ai projects\\genai_pocs\\.conda\\lib\\site-packages (from huggingface-hub>=0.23.0->langchain_huggingface) (2.32.3)\n",
      "Requirement already satisfied: tqdm>=4.42.1 in d:\\source\\ai projects\\genai_pocs\\.conda\\lib\\site-packages (from huggingface-hub>=0.23.0->langchain_huggingface) (4.66.5)\n",
      "Requirement already satisfied: typing-extensions>=3.7.4.3 in d:\\source\\ai projects\\genai_pocs\\.conda\\lib\\site-packages (from huggingface-hub>=0.23.0->langchain_huggingface) (4.12.2)\n",
      "Requirement already satisfied: jsonpatch<2.0,>=1.33 in d:\\source\\ai projects\\genai_pocs\\.conda\\lib\\site-packages (from langchain-core<0.3,>=0.1.52->langchain_huggingface) (1.33)\n",
      "Requirement already satisfied: langsmith<0.2.0,>=0.1.75 in d:\\source\\ai projects\\genai_pocs\\.conda\\lib\\site-packages (from langchain-core<0.3,>=0.1.52->langchain_huggingface) (0.1.99)\n",
      "Requirement already satisfied: pydantic<3,>=1 in d:\\source\\ai projects\\genai_pocs\\.conda\\lib\\site-packages (from langchain-core<0.3,>=0.1.52->langchain_huggingface) (2.8.2)\n",
      "Requirement already satisfied: tenacity!=8.4.0,<9.0.0,>=8.1.0 in d:\\source\\ai projects\\genai_pocs\\.conda\\lib\\site-packages (from langchain-core<0.3,>=0.1.52->langchain_huggingface) (8.5.0)\n",
      "Collecting torch>=1.11.0 (from sentence-transformers>=2.6.0->langchain_huggingface)\n",
      "  Downloading torch-2.4.0-cp310-cp310-win_amd64.whl.metadata (27 kB)\n",
      "Requirement already satisfied: numpy in d:\\source\\ai projects\\genai_pocs\\.conda\\lib\\site-packages (from sentence-transformers>=2.6.0->langchain_huggingface) (1.26.4)\n",
      "Collecting scikit-learn (from sentence-transformers>=2.6.0->langchain_huggingface)\n",
      "  Downloading scikit_learn-1.5.1-cp310-cp310-win_amd64.whl.metadata (12 kB)\n",
      "Collecting scipy (from sentence-transformers>=2.6.0->langchain_huggingface)\n",
      "  Downloading scipy-1.14.0-cp310-cp310-win_amd64.whl.metadata (60 kB)\n",
      "Collecting Pillow (from sentence-transformers>=2.6.0->langchain_huggingface)\n",
      "  Downloading pillow-10.4.0-cp310-cp310-win_amd64.whl.metadata (9.3 kB)\n",
      "Requirement already satisfied: regex!=2019.12.17 in d:\\source\\ai projects\\genai_pocs\\.conda\\lib\\site-packages (from transformers>=4.39.0->langchain_huggingface) (2024.7.24)\n",
      "Requirement already satisfied: safetensors>=0.4.1 in d:\\source\\ai projects\\genai_pocs\\.conda\\lib\\site-packages (from transformers>=4.39.0->langchain_huggingface) (0.4.4)\n",
      "Requirement already satisfied: jsonpointer>=1.9 in d:\\source\\ai projects\\genai_pocs\\.conda\\lib\\site-packages (from jsonpatch<2.0,>=1.33->langchain-core<0.3,>=0.1.52->langchain_huggingface) (3.0.0)\n",
      "Requirement already satisfied: orjson<4.0.0,>=3.9.14 in d:\\source\\ai projects\\genai_pocs\\.conda\\lib\\site-packages (from langsmith<0.2.0,>=0.1.75->langchain-core<0.3,>=0.1.52->langchain_huggingface) (3.10.7)\n",
      "Requirement already satisfied: annotated-types>=0.4.0 in d:\\source\\ai projects\\genai_pocs\\.conda\\lib\\site-packages (from pydantic<3,>=1->langchain-core<0.3,>=0.1.52->langchain_huggingface) (0.7.0)\n",
      "Requirement already satisfied: pydantic-core==2.20.1 in d:\\source\\ai projects\\genai_pocs\\.conda\\lib\\site-packages (from pydantic<3,>=1->langchain-core<0.3,>=0.1.52->langchain_huggingface) (2.20.1)\n",
      "Requirement already satisfied: charset-normalizer<4,>=2 in d:\\source\\ai projects\\genai_pocs\\.conda\\lib\\site-packages (from requests->huggingface-hub>=0.23.0->langchain_huggingface) (3.3.2)\n",
      "Requirement already satisfied: idna<4,>=2.5 in d:\\source\\ai projects\\genai_pocs\\.conda\\lib\\site-packages (from requests->huggingface-hub>=0.23.0->langchain_huggingface) (3.7)\n",
      "Requirement already satisfied: urllib3<3,>=1.21.1 in d:\\source\\ai projects\\genai_pocs\\.conda\\lib\\site-packages (from requests->huggingface-hub>=0.23.0->langchain_huggingface) (2.2.2)\n",
      "Requirement already satisfied: certifi>=2017.4.17 in d:\\source\\ai projects\\genai_pocs\\.conda\\lib\\site-packages (from requests->huggingface-hub>=0.23.0->langchain_huggingface) (2024.7.4)\n",
      "Requirement already satisfied: sympy in d:\\source\\ai projects\\genai_pocs\\.conda\\lib\\site-packages (from torch>=1.11.0->sentence-transformers>=2.6.0->langchain_huggingface) (1.13.2)\n",
      "Collecting networkx (from torch>=1.11.0->sentence-transformers>=2.6.0->langchain_huggingface)\n",
      "  Using cached networkx-3.3-py3-none-any.whl.metadata (5.1 kB)\n",
      "Collecting jinja2 (from torch>=1.11.0->sentence-transformers>=2.6.0->langchain_huggingface)\n",
      "  Using cached jinja2-3.1.4-py3-none-any.whl.metadata (2.6 kB)\n",
      "Requirement already satisfied: colorama in d:\\source\\ai projects\\genai_pocs\\.conda\\lib\\site-packages (from tqdm>=4.42.1->huggingface-hub>=0.23.0->langchain_huggingface) (0.4.6)\n",
      "Collecting joblib>=1.2.0 (from scikit-learn->sentence-transformers>=2.6.0->langchain_huggingface)\n",
      "  Using cached joblib-1.4.2-py3-none-any.whl.metadata (5.4 kB)\n",
      "Collecting threadpoolctl>=3.1.0 (from scikit-learn->sentence-transformers>=2.6.0->langchain_huggingface)\n",
      "  Using cached threadpoolctl-3.5.0-py3-none-any.whl.metadata (13 kB)\n",
      "Collecting MarkupSafe>=2.0 (from jinja2->torch>=1.11.0->sentence-transformers>=2.6.0->langchain_huggingface)\n",
      "  Downloading MarkupSafe-2.1.5-cp310-cp310-win_amd64.whl.metadata (3.1 kB)\n",
      "Requirement already satisfied: mpmath<1.4,>=1.1.0 in d:\\source\\ai projects\\genai_pocs\\.conda\\lib\\site-packages (from sympy->torch>=1.11.0->sentence-transformers>=2.6.0->langchain_huggingface) (1.3.0)\n",
      "Downloading langchain_huggingface-0.0.3-py3-none-any.whl (17 kB)\n",
      "Downloading sentence_transformers-3.0.1-py3-none-any.whl (227 kB)\n",
      "Downloading torch-2.4.0-cp310-cp310-win_amd64.whl (197.9 MB)\n",
      "   ---------------------------------------- 0.0/197.9 MB ? eta -:--:--\n",
      "   ---------------------------------------- 0.5/197.9 MB 2.1 MB/s eta 0:01:35\n",
      "   ---------------------------------------- 0.8/197.9 MB 1.7 MB/s eta 0:01:58\n",
      "   ---------------------------------------- 1.8/197.9 MB 2.7 MB/s eta 0:01:13\n",
      "    --------------------------------------- 2.6/197.9 MB 3.1 MB/s eta 0:01:03\n",
      "    --------------------------------------- 3.7/197.9 MB 3.5 MB/s eta 0:00:56\n",
      "    --------------------------------------- 4.5/197.9 MB 3.7 MB/s eta 0:00:53\n",
      "   - -------------------------------------- 5.5/197.9 MB 3.7 MB/s eta 0:00:52\n",
      "   - -------------------------------------- 6.6/197.9 MB 3.9 MB/s eta 0:00:49\n",
      "   - -------------------------------------- 7.6/197.9 MB 4.0 MB/s eta 0:00:48\n",
      "   - -------------------------------------- 8.7/197.9 MB 4.1 MB/s eta 0:00:47\n",
      "   - -------------------------------------- 9.7/197.9 MB 4.2 MB/s eta 0:00:45\n",
      "   -- ------------------------------------- 10.7/197.9 MB 4.3 MB/s eta 0:00:44\n",
      "   -- ------------------------------------- 12.1/197.9 MB 4.4 MB/s eta 0:00:43\n",
      "   -- ------------------------------------- 13.1/197.9 MB 4.4 MB/s eta 0:00:42\n",
      "   -- ------------------------------------- 14.2/197.9 MB 4.5 MB/s eta 0:00:41\n",
      "   --- ------------------------------------ 15.5/197.9 MB 4.6 MB/s eta 0:00:40\n",
      "   --- ------------------------------------ 15.7/197.9 MB 4.5 MB/s eta 0:00:41\n",
      "   --- ------------------------------------ 16.8/197.9 MB 4.5 MB/s eta 0:00:41\n",
      "   --- ------------------------------------ 17.6/197.9 MB 4.5 MB/s eta 0:00:41\n",
      "   --- ------------------------------------ 18.6/197.9 MB 4.5 MB/s eta 0:00:41\n",
      "   --- ------------------------------------ 19.4/197.9 MB 4.5 MB/s eta 0:00:41\n",
      "   ---- ----------------------------------- 20.2/197.9 MB 4.4 MB/s eta 0:00:41\n",
      "   ---- ----------------------------------- 21.2/197.9 MB 4.4 MB/s eta 0:00:40\n",
      "   ---- ----------------------------------- 22.5/197.9 MB 4.5 MB/s eta 0:00:40\n",
      "   ---- ----------------------------------- 23.6/197.9 MB 4.5 MB/s eta 0:00:39\n",
      "   ---- ----------------------------------- 24.4/197.9 MB 4.5 MB/s eta 0:00:39\n",
      "   ----- ---------------------------------- 25.4/197.9 MB 4.5 MB/s eta 0:00:39\n",
      "   ----- ---------------------------------- 26.5/197.9 MB 4.5 MB/s eta 0:00:38\n",
      "   ----- ---------------------------------- 27.5/197.9 MB 4.5 MB/s eta 0:00:38\n",
      "   ----- ---------------------------------- 28.6/197.9 MB 4.5 MB/s eta 0:00:38\n",
      "   ----- ---------------------------------- 29.4/197.9 MB 4.6 MB/s eta 0:00:38\n",
      "   ------ --------------------------------- 30.4/197.9 MB 4.6 MB/s eta 0:00:37\n",
      "   ------ --------------------------------- 31.7/197.9 MB 4.6 MB/s eta 0:00:37\n",
      "   ------ --------------------------------- 32.8/197.9 MB 4.6 MB/s eta 0:00:36\n",
      "   ------ --------------------------------- 33.8/197.9 MB 4.6 MB/s eta 0:00:36\n",
      "   ------ --------------------------------- 34.6/197.9 MB 4.6 MB/s eta 0:00:36\n",
      "   ------- -------------------------------- 35.7/197.9 MB 4.6 MB/s eta 0:00:36\n",
      "   ------- -------------------------------- 36.2/197.9 MB 4.6 MB/s eta 0:00:36\n",
      "   ------- -------------------------------- 37.2/197.9 MB 4.6 MB/s eta 0:00:36\n",
      "   ------- -------------------------------- 38.5/197.9 MB 4.6 MB/s eta 0:00:35\n",
      "   ------- -------------------------------- 39.3/197.9 MB 4.6 MB/s eta 0:00:35\n",
      "   -------- ------------------------------- 40.4/197.9 MB 4.6 MB/s eta 0:00:35\n",
      "   -------- ------------------------------- 41.7/197.9 MB 4.6 MB/s eta 0:00:34\n",
      "   -------- ------------------------------- 42.5/197.9 MB 4.6 MB/s eta 0:00:34\n",
      "   -------- ------------------------------- 43.5/197.9 MB 4.6 MB/s eta 0:00:34\n",
      "   --------- ------------------------------ 44.8/197.9 MB 4.7 MB/s eta 0:00:33\n",
      "   --------- ------------------------------ 45.9/197.9 MB 4.7 MB/s eta 0:00:33\n",
      "   --------- ------------------------------ 46.9/197.9 MB 4.7 MB/s eta 0:00:33\n",
      "   --------- ------------------------------ 48.0/197.9 MB 4.7 MB/s eta 0:00:33\n",
      "   --------- ------------------------------ 49.3/197.9 MB 4.7 MB/s eta 0:00:32\n",
      "   ---------- ----------------------------- 50.6/197.9 MB 4.7 MB/s eta 0:00:32\n",
      "   ---------- ----------------------------- 51.6/197.9 MB 4.7 MB/s eta 0:00:31\n",
      "   ---------- ----------------------------- 52.2/197.9 MB 4.7 MB/s eta 0:00:32\n",
      "   ---------- ----------------------------- 52.7/197.9 MB 4.7 MB/s eta 0:00:32\n",
      "   ---------- ----------------------------- 53.7/197.9 MB 4.7 MB/s eta 0:00:31\n",
      "   ----------- ---------------------------- 54.5/197.9 MB 4.7 MB/s eta 0:00:31\n",
      "   ----------- ---------------------------- 55.6/197.9 MB 4.6 MB/s eta 0:00:31\n",
      "   ----------- ---------------------------- 56.4/197.9 MB 4.6 MB/s eta 0:00:31\n",
      "   ----------- ---------------------------- 57.4/197.9 MB 4.6 MB/s eta 0:00:31\n",
      "   ----------- ---------------------------- 58.5/197.9 MB 4.6 MB/s eta 0:00:31\n",
      "   ------------ --------------------------- 59.5/197.9 MB 4.7 MB/s eta 0:00:30\n",
      "   ------------ --------------------------- 60.6/197.9 MB 4.6 MB/s eta 0:00:30\n",
      "   ------------ --------------------------- 61.6/197.9 MB 4.7 MB/s eta 0:00:30\n",
      "   ------------ --------------------------- 62.7/197.9 MB 4.7 MB/s eta 0:00:29\n",
      "   ------------ --------------------------- 63.7/197.9 MB 4.7 MB/s eta 0:00:29\n",
      "   ------------- -------------------------- 64.7/197.9 MB 4.7 MB/s eta 0:00:29\n",
      "   ------------- -------------------------- 65.8/197.9 MB 4.7 MB/s eta 0:00:29\n",
      "   ------------- -------------------------- 66.8/197.9 MB 4.7 MB/s eta 0:00:28\n",
      "   ------------- -------------------------- 67.9/197.9 MB 4.7 MB/s eta 0:00:28\n",
      "   -------------- ------------------------- 69.5/197.9 MB 4.7 MB/s eta 0:00:28\n",
      "   -------------- ------------------------- 70.8/197.9 MB 4.8 MB/s eta 0:00:27\n",
      "   -------------- ------------------------- 71.8/197.9 MB 4.8 MB/s eta 0:00:27\n",
      "   -------------- ------------------------- 73.1/197.9 MB 4.8 MB/s eta 0:00:27\n",
      "   -------------- ------------------------- 74.2/197.9 MB 4.8 MB/s eta 0:00:26\n",
      "   --------------- ------------------------ 75.5/197.9 MB 4.8 MB/s eta 0:00:26\n",
      "   --------------- ------------------------ 76.5/197.9 MB 4.8 MB/s eta 0:00:26\n",
      "   --------------- ------------------------ 77.9/197.9 MB 4.8 MB/s eta 0:00:25\n",
      "   --------------- ------------------------ 78.9/197.9 MB 4.8 MB/s eta 0:00:25\n",
      "   ---------------- ----------------------- 80.5/197.9 MB 4.8 MB/s eta 0:00:25\n",
      "   ---------------- ----------------------- 81.5/197.9 MB 4.9 MB/s eta 0:00:24\n",
      "   ---------------- ----------------------- 82.8/197.9 MB 4.9 MB/s eta 0:00:24\n",
      "   ----------------- ---------------------- 84.1/197.9 MB 4.9 MB/s eta 0:00:24\n",
      "   ----------------- ---------------------- 85.5/197.9 MB 4.9 MB/s eta 0:00:23\n",
      "   ----------------- ---------------------- 86.5/197.9 MB 4.9 MB/s eta 0:00:23\n",
      "   ----------------- ---------------------- 87.6/197.9 MB 4.9 MB/s eta 0:00:23\n",
      "   ----------------- ---------------------- 88.6/197.9 MB 4.9 MB/s eta 0:00:23\n",
      "   ------------------ --------------------- 89.7/197.9 MB 4.9 MB/s eta 0:00:23\n",
      "   ------------------ --------------------- 90.7/197.9 MB 4.9 MB/s eta 0:00:22\n",
      "   ------------------ --------------------- 92.0/197.9 MB 4.9 MB/s eta 0:00:22\n",
      "   ------------------ --------------------- 93.1/197.9 MB 4.9 MB/s eta 0:00:22\n",
      "   ------------------- -------------------- 94.1/197.9 MB 4.9 MB/s eta 0:00:22\n",
      "   ------------------- -------------------- 94.9/197.9 MB 4.9 MB/s eta 0:00:21\n",
      "   ------------------- -------------------- 95.9/197.9 MB 4.9 MB/s eta 0:00:21\n",
      "   ------------------- -------------------- 97.3/197.9 MB 4.9 MB/s eta 0:00:21\n",
      "   ------------------- -------------------- 98.3/197.9 MB 4.9 MB/s eta 0:00:21\n",
      "   -------------------- ------------------- 99.4/197.9 MB 4.9 MB/s eta 0:00:20\n",
      "   -------------------- ------------------- 100.4/197.9 MB 4.9 MB/s eta 0:00:20\n",
      "   -------------------- ------------------- 101.7/197.9 MB 4.9 MB/s eta 0:00:20\n",
      "   -------------------- ------------------- 103.0/197.9 MB 4.9 MB/s eta 0:00:20\n",
      "   --------------------- ------------------ 104.3/197.9 MB 5.0 MB/s eta 0:00:19\n",
      "   --------------------- ------------------ 105.6/197.9 MB 5.0 MB/s eta 0:00:19\n",
      "   --------------------- ------------------ 107.0/197.9 MB 5.0 MB/s eta 0:00:19\n",
      "   --------------------- ------------------ 108.3/197.9 MB 5.0 MB/s eta 0:00:18\n",
      "   ---------------------- ----------------- 109.1/197.9 MB 5.0 MB/s eta 0:00:18\n",
      "   ---------------------- ----------------- 110.4/197.9 MB 5.0 MB/s eta 0:00:18\n",
      "   ---------------------- ----------------- 111.4/197.9 MB 5.0 MB/s eta 0:00:18\n",
      "   ---------------------- ----------------- 112.7/197.9 MB 5.0 MB/s eta 0:00:18\n",
      "   ----------------------- ---------------- 113.8/197.9 MB 5.0 MB/s eta 0:00:17\n",
      "   ----------------------- ---------------- 114.6/197.9 MB 5.0 MB/s eta 0:00:17\n",
      "   ----------------------- ---------------- 115.3/197.9 MB 5.0 MB/s eta 0:00:17\n",
      "   ----------------------- ---------------- 115.9/197.9 MB 5.0 MB/s eta 0:00:17\n",
      "   ----------------------- ---------------- 116.7/197.9 MB 4.9 MB/s eta 0:00:17\n",
      "   ----------------------- ---------------- 117.2/197.9 MB 4.9 MB/s eta 0:00:17\n",
      "   ----------------------- ---------------- 117.4/197.9 MB 4.9 MB/s eta 0:00:17\n",
      "   ----------------------- ---------------- 118.2/197.9 MB 4.9 MB/s eta 0:00:17\n",
      "   ------------------------ --------------- 119.3/197.9 MB 4.9 MB/s eta 0:00:17\n",
      "   ------------------------ --------------- 120.3/197.9 MB 4.9 MB/s eta 0:00:16\n",
      "   ------------------------ --------------- 121.1/197.9 MB 4.9 MB/s eta 0:00:16\n",
      "   ------------------------ --------------- 121.9/197.9 MB 4.9 MB/s eta 0:00:16\n",
      "   ------------------------ --------------- 122.7/197.9 MB 4.8 MB/s eta 0:00:16\n",
      "   ------------------------ --------------- 123.5/197.9 MB 4.8 MB/s eta 0:00:16\n",
      "   ------------------------- -------------- 124.5/197.9 MB 4.8 MB/s eta 0:00:16\n",
      "   ------------------------- -------------- 125.6/197.9 MB 4.8 MB/s eta 0:00:15\n",
      "   ------------------------- -------------- 126.4/197.9 MB 4.8 MB/s eta 0:00:15\n",
      "   ------------------------- -------------- 127.4/197.9 MB 4.8 MB/s eta 0:00:15\n",
      "   ------------------------- -------------- 128.5/197.9 MB 4.8 MB/s eta 0:00:15\n",
      "   -------------------------- ------------- 129.2/197.9 MB 4.8 MB/s eta 0:00:15\n",
      "   -------------------------- ------------- 130.5/197.9 MB 4.8 MB/s eta 0:00:14\n",
      "   -------------------------- ------------- 131.6/197.9 MB 4.8 MB/s eta 0:00:14\n",
      "   -------------------------- ------------- 132.6/197.9 MB 4.8 MB/s eta 0:00:14\n",
      "   --------------------------- ------------ 133.7/197.9 MB 4.8 MB/s eta 0:00:14\n",
      "   --------------------------- ------------ 135.0/197.9 MB 4.8 MB/s eta 0:00:13\n",
      "   --------------------------- ------------ 136.1/197.9 MB 4.8 MB/s eta 0:00:13\n",
      "   --------------------------- ------------ 136.8/197.9 MB 4.8 MB/s eta 0:00:13\n",
      "   --------------------------- ------------ 137.6/197.9 MB 4.8 MB/s eta 0:00:13\n",
      "   ---------------------------- ----------- 138.7/197.9 MB 4.8 MB/s eta 0:00:13\n",
      "   ---------------------------- ----------- 139.7/197.9 MB 4.8 MB/s eta 0:00:13\n",
      "   ---------------------------- ----------- 140.8/197.9 MB 4.8 MB/s eta 0:00:12\n",
      "   ---------------------------- ----------- 142.1/197.9 MB 4.8 MB/s eta 0:00:12\n",
      "   ---------------------------- ----------- 143.1/197.9 MB 4.8 MB/s eta 0:00:12\n",
      "   ----------------------------- ---------- 144.2/197.9 MB 4.8 MB/s eta 0:00:12\n",
      "   ----------------------------- ---------- 145.5/197.9 MB 4.9 MB/s eta 0:00:11\n",
      "   ----------------------------- ---------- 146.5/197.9 MB 4.9 MB/s eta 0:00:11\n",
      "   ----------------------------- ---------- 147.1/197.9 MB 4.9 MB/s eta 0:00:11\n",
      "   ----------------------------- ---------- 147.8/197.9 MB 4.9 MB/s eta 0:00:11\n",
      "   ------------------------------ --------- 148.9/197.9 MB 4.9 MB/s eta 0:00:11\n",
      "   ------------------------------ --------- 149.9/197.9 MB 4.9 MB/s eta 0:00:10\n",
      "   ------------------------------ --------- 151.0/197.9 MB 4.9 MB/s eta 0:00:10\n",
      "   ------------------------------ --------- 152.3/197.9 MB 4.9 MB/s eta 0:00:10\n",
      "   ------------------------------- -------- 153.4/197.9 MB 4.9 MB/s eta 0:00:10\n",
      "   ------------------------------- -------- 154.7/197.9 MB 4.9 MB/s eta 0:00:09\n",
      "   ------------------------------- -------- 156.0/197.9 MB 4.9 MB/s eta 0:00:09\n",
      "   ------------------------------- -------- 157.0/197.9 MB 4.9 MB/s eta 0:00:09\n",
      "   -------------------------------- ------- 158.3/197.9 MB 4.9 MB/s eta 0:00:09\n",
      "   -------------------------------- ------- 159.6/197.9 MB 4.9 MB/s eta 0:00:08\n",
      "   -------------------------------- ------- 161.0/197.9 MB 4.9 MB/s eta 0:00:08\n",
      "   -------------------------------- ------- 162.3/197.9 MB 4.9 MB/s eta 0:00:08\n",
      "   --------------------------------- ------ 163.6/197.9 MB 4.9 MB/s eta 0:00:07\n",
      "   --------------------------------- ------ 164.9/197.9 MB 5.0 MB/s eta 0:00:07\n",
      "   --------------------------------- ------ 165.9/197.9 MB 5.0 MB/s eta 0:00:07\n",
      "   --------------------------------- ------ 167.5/197.9 MB 5.0 MB/s eta 0:00:07\n",
      "   ---------------------------------- ----- 168.8/197.9 MB 5.0 MB/s eta 0:00:06\n",
      "   ---------------------------------- ----- 170.1/197.9 MB 5.0 MB/s eta 0:00:06\n",
      "   ---------------------------------- ----- 171.4/197.9 MB 5.0 MB/s eta 0:00:06\n",
      "   ---------------------------------- ----- 172.5/197.9 MB 5.0 MB/s eta 0:00:06\n",
      "   ----------------------------------- ---- 173.5/197.9 MB 5.0 MB/s eta 0:00:05\n",
      "   ----------------------------------- ---- 174.6/197.9 MB 5.0 MB/s eta 0:00:05\n",
      "   ----------------------------------- ---- 175.9/197.9 MB 5.0 MB/s eta 0:00:05\n",
      "   ----------------------------------- ---- 176.9/197.9 MB 5.0 MB/s eta 0:00:05\n",
      "   ------------------------------------ --- 178.3/197.9 MB 5.1 MB/s eta 0:00:04\n",
      "   ------------------------------------ --- 179.6/197.9 MB 5.1 MB/s eta 0:00:04\n",
      "   ------------------------------------ --- 180.9/197.9 MB 5.1 MB/s eta 0:00:04\n",
      "   ------------------------------------ --- 181.9/197.9 MB 5.1 MB/s eta 0:00:04\n",
      "   ------------------------------------ --- 183.0/197.9 MB 5.1 MB/s eta 0:00:03\n",
      "   ------------------------------------- -- 184.0/197.9 MB 5.1 MB/s eta 0:00:03\n",
      "   ------------------------------------- -- 185.6/197.9 MB 5.1 MB/s eta 0:00:03\n",
      "   ------------------------------------- -- 186.6/197.9 MB 5.1 MB/s eta 0:00:03\n",
      "   ------------------------------------- -- 188.0/197.9 MB 5.1 MB/s eta 0:00:02\n",
      "   -------------------------------------- - 189.3/197.9 MB 5.1 MB/s eta 0:00:02\n",
      "   -------------------------------------- - 190.3/197.9 MB 5.1 MB/s eta 0:00:02\n",
      "   -------------------------------------- - 191.1/197.9 MB 5.1 MB/s eta 0:00:02\n",
      "   -------------------------------------- - 191.4/197.9 MB 5.1 MB/s eta 0:00:02\n",
      "   -------------------------------------- - 192.2/197.9 MB 5.1 MB/s eta 0:00:02\n",
      "   ---------------------------------------  193.2/197.9 MB 5.1 MB/s eta 0:00:01\n",
      "   ---------------------------------------  194.2/197.9 MB 5.1 MB/s eta 0:00:01\n",
      "   ---------------------------------------  195.3/197.9 MB 5.1 MB/s eta 0:00:01\n",
      "   ---------------------------------------  196.3/197.9 MB 5.1 MB/s eta 0:00:01\n",
      "   ---------------------------------------  197.1/197.9 MB 5.1 MB/s eta 0:00:01\n",
      "   ---------------------------------------  197.7/197.9 MB 5.1 MB/s eta 0:00:01\n",
      "   ---------------------------------------- 197.9/197.9 MB 5.0 MB/s eta 0:00:00\n",
      "Downloading pillow-10.4.0-cp310-cp310-win_amd64.whl (2.6 MB)\n",
      "   ---------------------------------------- 0.0/2.6 MB ? eta -:--:--\n",
      "   ------------ --------------------------- 0.8/2.6 MB 4.8 MB/s eta 0:00:01\n",
      "   ---------------------------- ----------- 1.8/2.6 MB 4.8 MB/s eta 0:00:01\n",
      "   ---------------------------------------- 2.6/2.6 MB 4.6 MB/s eta 0:00:00\n",
      "Downloading scikit_learn-1.5.1-cp310-cp310-win_amd64.whl (11.0 MB)\n",
      "   ---------------------------------------- 0.0/11.0 MB ? eta -:--:--\n",
      "   -- ------------------------------------- 0.8/11.0 MB 4.2 MB/s eta 0:00:03\n",
      "   ------ --------------------------------- 1.8/11.0 MB 4.8 MB/s eta 0:00:02\n",
      "   ---------- ----------------------------- 2.9/11.0 MB 4.7 MB/s eta 0:00:02\n",
      "   -------------- ------------------------- 3.9/11.0 MB 4.8 MB/s eta 0:00:02\n",
      "   ------------------ --------------------- 5.0/11.0 MB 4.9 MB/s eta 0:00:02\n",
      "   ---------------------- ----------------- 6.3/11.0 MB 5.1 MB/s eta 0:00:01\n",
      "   -------------------------- ------------- 7.3/11.0 MB 5.1 MB/s eta 0:00:01\n",
      "   ------------------------------ --------- 8.4/11.0 MB 5.1 MB/s eta 0:00:01\n",
      "   ----------------------------------- ---- 9.7/11.0 MB 5.2 MB/s eta 0:00:01\n",
      "   ---------------------------------------  10.7/11.0 MB 5.3 MB/s eta 0:00:01\n",
      "   ---------------------------------------- 11.0/11.0 MB 5.2 MB/s eta 0:00:00\n",
      "Downloading scipy-1.14.0-cp310-cp310-win_amd64.whl (44.8 MB)\n",
      "   ---------------------------------------- 0.0/44.8 MB ? eta -:--:--\n",
      "    --------------------------------------- 1.0/44.8 MB 5.0 MB/s eta 0:00:09\n",
      "   - -------------------------------------- 2.1/44.8 MB 5.3 MB/s eta 0:00:08\n",
      "   --- ------------------------------------ 3.4/44.8 MB 5.3 MB/s eta 0:00:08\n",
      "   --- ------------------------------------ 4.5/44.8 MB 5.4 MB/s eta 0:00:08\n",
      "   ---- ----------------------------------- 5.5/44.8 MB 5.3 MB/s eta 0:00:08\n",
      "   ----- ---------------------------------- 6.6/44.8 MB 5.3 MB/s eta 0:00:08\n",
      "   ------- -------------------------------- 7.9/44.8 MB 5.3 MB/s eta 0:00:07\n",
      "   ------- -------------------------------- 8.9/44.8 MB 5.3 MB/s eta 0:00:07\n",
      "   -------- ------------------------------- 10.0/44.8 MB 5.3 MB/s eta 0:00:07\n",
      "   --------- ------------------------------ 11.0/44.8 MB 5.2 MB/s eta 0:00:07\n",
      "   ---------- ----------------------------- 11.8/44.8 MB 5.1 MB/s eta 0:00:07\n",
      "   ----------- ---------------------------- 12.6/44.8 MB 5.0 MB/s eta 0:00:07\n",
      "   ----------- ---------------------------- 13.1/44.8 MB 4.8 MB/s eta 0:00:07\n",
      "   ------------ --------------------------- 13.9/44.8 MB 4.7 MB/s eta 0:00:07\n",
      "   ------------- -------------------------- 14.9/44.8 MB 4.7 MB/s eta 0:00:07\n",
      "   -------------- ------------------------- 16.0/44.8 MB 4.8 MB/s eta 0:00:07\n",
      "   --------------- ------------------------ 17.3/44.8 MB 4.8 MB/s eta 0:00:06\n",
      "   ---------------- ----------------------- 18.4/44.8 MB 4.8 MB/s eta 0:00:06\n",
      "   ----------------- ---------------------- 19.7/44.8 MB 4.9 MB/s eta 0:00:06\n",
      "   ------------------ --------------------- 20.7/44.8 MB 4.9 MB/s eta 0:00:05\n",
      "   ------------------- -------------------- 21.8/44.8 MB 4.9 MB/s eta 0:00:05\n",
      "   -------------------- ------------------- 23.1/44.8 MB 5.0 MB/s eta 0:00:05\n",
      "   --------------------- ------------------ 24.4/44.8 MB 5.0 MB/s eta 0:00:05\n",
      "   ---------------------- ----------------- 25.7/44.8 MB 5.1 MB/s eta 0:00:04\n",
      "   ----------------------- ---------------- 26.7/44.8 MB 5.1 MB/s eta 0:00:04\n",
      "   ------------------------- -------------- 28.0/44.8 MB 5.1 MB/s eta 0:00:04\n",
      "   -------------------------- ------------- 29.1/44.8 MB 5.1 MB/s eta 0:00:04\n",
      "   --------------------------- ------------ 30.4/44.8 MB 5.2 MB/s eta 0:00:03\n",
      "   ---------------------------- ----------- 31.7/44.8 MB 5.2 MB/s eta 0:00:03\n",
      "   ----------------------------- ---------- 32.8/44.8 MB 5.2 MB/s eta 0:00:03\n",
      "   ------------------------------ --------- 33.8/44.8 MB 5.2 MB/s eta 0:00:03\n",
      "   ------------------------------- -------- 34.9/44.8 MB 5.2 MB/s eta 0:00:02\n",
      "   ------------------------------- -------- 35.7/44.8 MB 5.2 MB/s eta 0:00:02\n",
      "   -------------------------------- ------- 36.4/44.8 MB 5.1 MB/s eta 0:00:02\n",
      "   --------------------------------- ------ 37.5/44.8 MB 5.1 MB/s eta 0:00:02\n",
      "   ---------------------------------- ----- 38.5/44.8 MB 5.1 MB/s eta 0:00:02\n",
      "   ----------------------------------- ---- 39.6/44.8 MB 5.1 MB/s eta 0:00:02\n",
      "   ------------------------------------ --- 40.9/44.8 MB 5.1 MB/s eta 0:00:01\n",
      "   ------------------------------------- -- 41.9/44.8 MB 5.1 MB/s eta 0:00:01\n",
      "   -------------------------------------- - 43.3/44.8 MB 5.1 MB/s eta 0:00:01\n",
      "   ---------------------------------------  44.3/44.8 MB 5.2 MB/s eta 0:00:01\n",
      "   ---------------------------------------- 44.8/44.8 MB 5.1 MB/s eta 0:00:00\n",
      "Using cached joblib-1.4.2-py3-none-any.whl (301 kB)\n",
      "Using cached threadpoolctl-3.5.0-py3-none-any.whl (18 kB)\n",
      "Using cached jinja2-3.1.4-py3-none-any.whl (133 kB)\n",
      "Using cached networkx-3.3-py3-none-any.whl (1.7 MB)\n",
      "Downloading MarkupSafe-2.1.5-cp310-cp310-win_amd64.whl (17 kB)\n",
      "Installing collected packages: threadpoolctl, scipy, Pillow, networkx, MarkupSafe, joblib, scikit-learn, jinja2, torch, sentence-transformers, langchain_huggingface\n",
      "Successfully installed MarkupSafe-2.1.5 Pillow-10.4.0 jinja2-3.1.4 joblib-1.4.2 langchain_huggingface-0.0.3 networkx-3.3 scikit-learn-1.5.1 scipy-1.14.0 sentence-transformers-3.0.1 threadpoolctl-3.5.0 torch-2.4.0\n"
     ]
    }
   ],
   "source": [
    "!pip install langchain_huggingface"
   ]
  },
  {
   "cell_type": "code",
   "execution_count": 10,
   "metadata": {},
   "outputs": [
    {
     "ename": "OSError",
     "evalue": "[WinError 127] The specified procedure could not be found. Error loading \"d:\\source\\AI Projects\\GenAI_PoCs\\.conda\\lib\\site-packages\\torch\\lib\\shm.dll\" or one of its dependencies.",
     "output_type": "error",
     "traceback": [
      "\u001b[1;31m---------------------------------------------------------------------------\u001b[0m",
      "\u001b[1;31mOSError\u001b[0m                                   Traceback (most recent call last)",
      "Cell \u001b[1;32mIn[10], line 3\u001b[0m\n\u001b[0;32m      1\u001b[0m \u001b[38;5;28;01mfrom\u001b[39;00m \u001b[38;5;21;01mlangchain_huggingface\u001b[39;00m \u001b[38;5;28;01mimport\u001b[39;00m HuggingFaceEmbeddings\n\u001b[0;32m      2\u001b[0m \u001b[38;5;66;03m#embeddings=HuggingFaceEmbeddings(model_name=\"all-MiniLM-L6-v2\")\u001b[39;00m\n\u001b[1;32m----> 3\u001b[0m \u001b[43mHuggingFaceEmbeddings\u001b[49m\u001b[43m(\u001b[49m\u001b[43mmodel_name\u001b[49m\u001b[38;5;241;43m=\u001b[39;49m\u001b[38;5;124;43m\"\u001b[39;49m\u001b[38;5;124;43mall-MiniLM-L6-v2\u001b[39;49m\u001b[38;5;124;43m\"\u001b[39;49m\u001b[43m)\u001b[49m\n",
      "File \u001b[1;32md:\\source\\AI Projects\\GenAI_PoCs\\.conda\\lib\\site-packages\\langchain_huggingface\\embeddings\\huggingface.py:53\u001b[0m, in \u001b[0;36mHuggingFaceEmbeddings.__init__\u001b[1;34m(self, **kwargs)\u001b[0m\n\u001b[0;32m     51\u001b[0m \u001b[38;5;28msuper\u001b[39m()\u001b[38;5;241m.\u001b[39m\u001b[38;5;21m__init__\u001b[39m(\u001b[38;5;241m*\u001b[39m\u001b[38;5;241m*\u001b[39mkwargs)\n\u001b[0;32m     52\u001b[0m \u001b[38;5;28;01mtry\u001b[39;00m:\n\u001b[1;32m---> 53\u001b[0m     \u001b[38;5;28;01mimport\u001b[39;00m \u001b[38;5;21;01msentence_transformers\u001b[39;00m  \u001b[38;5;66;03m# type: ignore[import]\u001b[39;00m\n\u001b[0;32m     55\u001b[0m \u001b[38;5;28;01mexcept\u001b[39;00m \u001b[38;5;167;01mImportError\u001b[39;00m \u001b[38;5;28;01mas\u001b[39;00m exc:\n\u001b[0;32m     56\u001b[0m     \u001b[38;5;28;01mraise\u001b[39;00m \u001b[38;5;167;01mImportError\u001b[39;00m(\n\u001b[0;32m     57\u001b[0m         \u001b[38;5;124m\"\u001b[39m\u001b[38;5;124mCould not import sentence_transformers python package. \u001b[39m\u001b[38;5;124m\"\u001b[39m\n\u001b[0;32m     58\u001b[0m         \u001b[38;5;124m\"\u001b[39m\u001b[38;5;124mPlease install it with `pip install sentence-transformers`.\u001b[39m\u001b[38;5;124m\"\u001b[39m\n\u001b[0;32m     59\u001b[0m     ) \u001b[38;5;28;01mfrom\u001b[39;00m \u001b[38;5;21;01mexc\u001b[39;00m\n",
      "File \u001b[1;32md:\\source\\AI Projects\\GenAI_PoCs\\.conda\\lib\\site-packages\\sentence_transformers\\__init__.py:7\u001b[0m\n\u001b[0;32m      4\u001b[0m \u001b[38;5;28;01mimport\u001b[39;00m \u001b[38;5;21;01mimportlib\u001b[39;00m\n\u001b[0;32m      5\u001b[0m \u001b[38;5;28;01mimport\u001b[39;00m \u001b[38;5;21;01mos\u001b[39;00m\n\u001b[1;32m----> 7\u001b[0m \u001b[38;5;28;01mfrom\u001b[39;00m \u001b[38;5;21;01msentence_transformers\u001b[39;00m\u001b[38;5;21;01m.\u001b[39;00m\u001b[38;5;21;01mcross_encoder\u001b[39;00m\u001b[38;5;21;01m.\u001b[39;00m\u001b[38;5;21;01mCrossEncoder\u001b[39;00m \u001b[38;5;28;01mimport\u001b[39;00m CrossEncoder\n\u001b[0;32m      8\u001b[0m \u001b[38;5;28;01mfrom\u001b[39;00m \u001b[38;5;21;01msentence_transformers\u001b[39;00m\u001b[38;5;21;01m.\u001b[39;00m\u001b[38;5;21;01mdatasets\u001b[39;00m \u001b[38;5;28;01mimport\u001b[39;00m ParallelSentencesDataset, SentencesDataset\n\u001b[0;32m      9\u001b[0m \u001b[38;5;28;01mfrom\u001b[39;00m \u001b[38;5;21;01msentence_transformers\u001b[39;00m\u001b[38;5;21;01m.\u001b[39;00m\u001b[38;5;21;01mLoggingHandler\u001b[39;00m \u001b[38;5;28;01mimport\u001b[39;00m LoggingHandler\n",
      "File \u001b[1;32md:\\source\\AI Projects\\GenAI_PoCs\\.conda\\lib\\site-packages\\sentence_transformers\\cross_encoder\\__init__.py:1\u001b[0m\n\u001b[1;32m----> 1\u001b[0m \u001b[38;5;28;01mfrom\u001b[39;00m \u001b[38;5;21;01m.\u001b[39;00m\u001b[38;5;21;01mCrossEncoder\u001b[39;00m \u001b[38;5;28;01mimport\u001b[39;00m CrossEncoder\n\u001b[0;32m      3\u001b[0m __all__ \u001b[38;5;241m=\u001b[39m [\u001b[38;5;124m\"\u001b[39m\u001b[38;5;124mCrossEncoder\u001b[39m\u001b[38;5;124m\"\u001b[39m]\n",
      "File \u001b[1;32md:\\source\\AI Projects\\GenAI_PoCs\\.conda\\lib\\site-packages\\sentence_transformers\\cross_encoder\\CrossEncoder.py:7\u001b[0m\n\u001b[0;32m      4\u001b[0m \u001b[38;5;28;01mfrom\u001b[39;00m \u001b[38;5;21;01mtyping\u001b[39;00m \u001b[38;5;28;01mimport\u001b[39;00m Callable, Dict, List, Literal, Optional, Tuple, Type, Union\n\u001b[0;32m      6\u001b[0m \u001b[38;5;28;01mimport\u001b[39;00m \u001b[38;5;21;01mnumpy\u001b[39;00m \u001b[38;5;28;01mas\u001b[39;00m \u001b[38;5;21;01mnp\u001b[39;00m\n\u001b[1;32m----> 7\u001b[0m \u001b[38;5;28;01mimport\u001b[39;00m \u001b[38;5;21;01mtorch\u001b[39;00m\n\u001b[0;32m      8\u001b[0m \u001b[38;5;28;01mfrom\u001b[39;00m \u001b[38;5;21;01mtorch\u001b[39;00m \u001b[38;5;28;01mimport\u001b[39;00m Tensor, nn\n\u001b[0;32m      9\u001b[0m \u001b[38;5;28;01mfrom\u001b[39;00m \u001b[38;5;21;01mtorch\u001b[39;00m\u001b[38;5;21;01m.\u001b[39;00m\u001b[38;5;21;01moptim\u001b[39;00m \u001b[38;5;28;01mimport\u001b[39;00m Optimizer\n",
      "File \u001b[1;32md:\\source\\AI Projects\\GenAI_PoCs\\.conda\\lib\\site-packages\\torch\\__init__.py:130\u001b[0m\n\u001b[0;32m    128\u001b[0m     err \u001b[38;5;241m=\u001b[39m ctypes\u001b[38;5;241m.\u001b[39mWinError(last_error)\n\u001b[0;32m    129\u001b[0m     err\u001b[38;5;241m.\u001b[39mstrerror \u001b[38;5;241m+\u001b[39m\u001b[38;5;241m=\u001b[39m \u001b[38;5;124mf\u001b[39m\u001b[38;5;124m'\u001b[39m\u001b[38;5;124m Error loading \u001b[39m\u001b[38;5;124m\"\u001b[39m\u001b[38;5;132;01m{\u001b[39;00mdll\u001b[38;5;132;01m}\u001b[39;00m\u001b[38;5;124m\"\u001b[39m\u001b[38;5;124m or one of its dependencies.\u001b[39m\u001b[38;5;124m'\u001b[39m\n\u001b[1;32m--> 130\u001b[0m     \u001b[38;5;28;01mraise\u001b[39;00m err\n\u001b[0;32m    131\u001b[0m \u001b[38;5;28;01melif\u001b[39;00m res \u001b[38;5;129;01mis\u001b[39;00m \u001b[38;5;129;01mnot\u001b[39;00m \u001b[38;5;28;01mNone\u001b[39;00m:\n\u001b[0;32m    132\u001b[0m     is_loaded \u001b[38;5;241m=\u001b[39m \u001b[38;5;28;01mTrue\u001b[39;00m\n",
      "\u001b[1;31mOSError\u001b[0m: [WinError 127] The specified procedure could not be found. Error loading \"d:\\source\\AI Projects\\GenAI_PoCs\\.conda\\lib\\site-packages\\torch\\lib\\shm.dll\" or one of its dependencies."
     ]
    }
   ],
   "source": [
    "from langchain_huggingface import HuggingFaceEmbeddings\n",
    "#embeddings=HuggingFaceEmbeddings(model_name=\"all-MiniLM-L6-v2\")\n",
    "HuggingFaceEmbeddings(model_name=\"all-MiniLM-L6-v2\")"
   ]
  },
  {
   "cell_type": "code",
   "execution_count": null,
   "metadata": {},
   "outputs": [],
   "source": []
  },
  {
   "cell_type": "code",
   "execution_count": 7,
   "metadata": {},
   "outputs": [
    {
     "data": {
      "text/plain": [
       "<langchain_chroma.vectorstores.Chroma at 0x1af0fd8f160>"
      ]
     },
     "execution_count": 7,
     "metadata": {},
     "output_type": "execute_result"
    }
   ],
   "source": [
    "## VectorStores\n",
    "from langchain_chroma import Chroma\n",
    "\n",
    "vectorstore=Chroma.from_documents(documents,embedding=embeddings)\n",
    "vectorstore\n"
   ]
  },
  {
   "cell_type": "code",
   "execution_count": 8,
   "metadata": {},
   "outputs": [
    {
     "data": {
      "text/plain": [
       "[Document(page_content='Cats are independent pets that often enjoy their own space.', metadata={'source': 'mammal-pets-doc'}),\n",
       " Document(page_content='Dogs are great companions, known for their loyalty and friendliness.', metadata={'source': 'mammal-pets-doc'}),\n",
       " Document(page_content='Rabbits are social animals that need plenty of space to hop around.', metadata={'source': 'mammal-pets-doc'}),\n",
       " Document(page_content='Parrots are intelligent birds capable of mimicking human speech.', metadata={'source': 'bird-pets-doc'})]"
      ]
     },
     "execution_count": 8,
     "metadata": {},
     "output_type": "execute_result"
    }
   ],
   "source": [
    "vectorstore.similarity_search(\"cat\")"
   ]
  },
  {
   "cell_type": "code",
   "execution_count": 10,
   "metadata": {},
   "outputs": [
    {
     "data": {
      "text/plain": [
       "[Document(page_content='Cats are independent pets that often enjoy their own space.', metadata={'source': 'mammal-pets-doc'}),\n",
       " Document(page_content='Dogs are great companions, known for their loyalty and friendliness.', metadata={'source': 'mammal-pets-doc'}),\n",
       " Document(page_content='Rabbits are social animals that need plenty of space to hop around.', metadata={'source': 'mammal-pets-doc'}),\n",
       " Document(page_content='Parrots are intelligent birds capable of mimicking human speech.', metadata={'source': 'bird-pets-doc'})]"
      ]
     },
     "execution_count": 10,
     "metadata": {},
     "output_type": "execute_result"
    }
   ],
   "source": [
    "## Async query\n",
    "await vectorstore.asimilarity_search(\"cat\")"
   ]
  },
  {
   "cell_type": "code",
   "execution_count": 11,
   "metadata": {},
   "outputs": [
    {
     "data": {
      "text/plain": [
       "[(Document(page_content='Cats are independent pets that often enjoy their own space.', metadata={'source': 'mammal-pets-doc'}),\n",
       "  0.9351058006286621),\n",
       " (Document(page_content='Dogs are great companions, known for their loyalty and friendliness.', metadata={'source': 'mammal-pets-doc'}),\n",
       "  1.5740901231765747),\n",
       " (Document(page_content='Rabbits are social animals that need plenty of space to hop around.', metadata={'source': 'mammal-pets-doc'}),\n",
       "  1.595690131187439),\n",
       " (Document(page_content='Parrots are intelligent birds capable of mimicking human speech.', metadata={'source': 'bird-pets-doc'}),\n",
       "  1.665792465209961)]"
      ]
     },
     "execution_count": 11,
     "metadata": {},
     "output_type": "execute_result"
    }
   ],
   "source": [
    "vectorstore.similarity_search_with_score(\"cat\")"
   ]
  },
  {
   "cell_type": "markdown",
   "metadata": {},
   "source": [
    "### Retrievers\n",
    "LangChain VectorStore objects do not subclass Runnable, and so cannot immediately be integrated into LangChain Expression Language chains.\n",
    "\n",
    "LangChain Retrievers are Runnables, so they implement a standard set of methods (e.g., synchronous and asynchronous invoke and batch operations) and are designed to be incorporated in LCEL chains.\n",
    "\n",
    "We can create a simple version of this ourselves, without subclassing Retriever. If we choose what method we wish to use to retrieve documents, we can create a runnable easily. Below we will build one around the similarity_search method:"
   ]
  },
  {
   "cell_type": "code",
   "execution_count": 12,
   "metadata": {},
   "outputs": [
    {
     "data": {
      "text/plain": [
       "[[Document(page_content='Cats are independent pets that often enjoy their own space.', metadata={'source': 'mammal-pets-doc'})],\n",
       " [Document(page_content='Dogs are great companions, known for their loyalty and friendliness.', metadata={'source': 'mammal-pets-doc'})]]"
      ]
     },
     "execution_count": 12,
     "metadata": {},
     "output_type": "execute_result"
    }
   ],
   "source": [
    "from typing import List\n",
    "\n",
    "from langchain_core.documents import Document\n",
    "from langchain_core.runnables import RunnableLambda\n",
    "\n",
    "retriever=RunnableLambda(vectorstore.similarity_search).bind(k=1)\n",
    "retriever.batch([\"cat\",\"dog\"])"
   ]
  },
  {
   "cell_type": "markdown",
   "metadata": {},
   "source": [
    "Vectorstores implement an as_retriever method that will generate a Retriever, specifically a VectorStoreRetriever. These retrievers include specific search_type and search_kwargs attributes that identify what methods of the underlying vector store to call, and how to parameterize them. For instance, we can replicate the above with the following:"
   ]
  },
  {
   "cell_type": "code",
   "execution_count": 13,
   "metadata": {},
   "outputs": [
    {
     "data": {
      "text/plain": [
       "[[Document(page_content='Cats are independent pets that often enjoy their own space.', metadata={'source': 'mammal-pets-doc'})],\n",
       " [Document(page_content='Dogs are great companions, known for their loyalty and friendliness.', metadata={'source': 'mammal-pets-doc'})]]"
      ]
     },
     "execution_count": 13,
     "metadata": {},
     "output_type": "execute_result"
    }
   ],
   "source": [
    "retriever=vectorstore.as_retriever(\n",
    "    search_type=\"similarity\",\n",
    "    search_kwargs={\"k\":1}\n",
    ")\n",
    "retriever.batch([\"cat\",\"dog\"])\n"
   ]
  },
  {
   "cell_type": "code",
   "execution_count": 14,
   "metadata": {},
   "outputs": [
    {
     "name": "stdout",
     "output_type": "stream",
     "text": [
      "According to the provided context, dogs are great companions, known for their loyalty and friendliness.\n"
     ]
    }
   ],
   "source": [
    "## RAG\n",
    "from langchain_core.prompts import ChatPromptTemplate\n",
    "from langchain_core.runnables import RunnablePassthrough\n",
    "\n",
    "message = \"\"\"\n",
    "Answer this question using the provided context only.\n",
    "\n",
    "{question}\n",
    "\n",
    "Context:\n",
    "{context}\n",
    "\"\"\"\n",
    "prompt = ChatPromptTemplate.from_messages([(\"human\", message)])\n",
    "\n",
    "rag_chain={\"context\":retriever,\"question\":RunnablePassthrough()}|prompt|llm\n",
    "\n",
    "response=rag_chain.invoke(\"tell me about dogs\")\n",
    "print(response.content)\n"
   ]
  },
  {
   "cell_type": "code",
   "execution_count": null,
   "metadata": {},
   "outputs": [],
   "source": []
  }
 ],
 "metadata": {
  "kernelspec": {
   "display_name": "Python 3",
   "language": "python",
   "name": "python3"
  },
  "language_info": {
   "codemirror_mode": {
    "name": "ipython",
    "version": 3
   },
   "file_extension": ".py",
   "mimetype": "text/x-python",
   "name": "python",
   "nbconvert_exporter": "python",
   "pygments_lexer": "ipython3",
   "version": "3.10.14"
  }
 },
 "nbformat": 4,
 "nbformat_minor": 2
}
